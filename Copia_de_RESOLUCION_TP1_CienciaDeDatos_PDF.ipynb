{
  "cells": [
    {
      "cell_type": "markdown",
      "metadata": {
        "id": "view-in-github",
        "colab_type": "text"
      },
      "source": [
        "<a href=\"https://colab.research.google.com/github/ortegadiego/PythonRepositorio/blob/main/Copia_de_RESOLUCION_TP1_CienciaDeDatos_PDF.ipynb\" target=\"_parent\"><img src=\"https://colab.research.google.com/assets/colab-badge.svg\" alt=\"Open In Colab\"/></a>"
      ]
    },
    {
      "cell_type": "markdown",
      "metadata": {
        "id": "2X7U2w7IebLm"
      },
      "source": [
        "# Trabajo Practico N1\n",
        "# Introduction al Dessarrollo en Python"
      ]
    },
    {
      "cell_type": "markdown",
      "metadata": {
        "id": "kwBfCKCRNyxc"
      },
      "source": [
        "**EJERCICIO 1**\n",
        "\n",
        "Determinar si un numero ingresado por el usuario es PAR"
      ]
    },
    {
      "cell_type": "markdown",
      "metadata": {
        "id": "3C51NfdL3s17"
      },
      "source": []
    },
    {
      "cell_type": "code",
      "source": [
        "Numero = int(input())\n",
        "resto = Numero % 2\n",
        "if resto == 0:\n",
        "  print(\"Es par\")\n",
        "else:\n",
        "  print(\"Es Impar\")"
      ],
      "metadata": {
        "colab": {
          "base_uri": "https://localhost:8080/"
        },
        "id": "IYwuT3uEuOuW",
        "outputId": "086ec1ab-352b-4a27-b0d6-8179bb60dc98"
      },
      "execution_count": 3,
      "outputs": [
        {
          "output_type": "stream",
          "name": "stdout",
          "text": [
            "5\n",
            "Es Impar\n"
          ]
        }
      ]
    },
    {
      "cell_type": "markdown",
      "metadata": {
        "id": "KKY6JsexOCUy"
      },
      "source": [
        "**EJERCICIO 2**\n",
        "\n",
        "Determinar si un numero ingresado por el usuario esta DENTRO DEL RANGO [1,10] y es par. MUESTRE UN MENSAJE EN CASO CONTRARIO 'NÚMERO FUERA DEL RANGO'"
      ]
    },
    {
      "cell_type": "code",
      "source": [
        "lista = [1, 2, 3, 4, 5, 6, 7, 8, 9, 10]\n",
        "\n",
        "numero = input()\n",
        "\n",
        "if numero in lista:\n",
        "    print(\"El número existe en la lista\")"
      ],
      "metadata": {
        "id": "5PsAFUuJFEhg"
      },
      "execution_count": null,
      "outputs": []
    },
    {
      "cell_type": "markdown",
      "metadata": {
        "id": "cfitfYKpQK2O"
      },
      "source": [
        "**EJERCICIO 3 CICLO FOR**\n",
        "\n",
        "\n",
        "Solicitar al usuario que ingrese 10 números. Calcule la suma de todos los números ingresados y  cuente cuántos de ellos son par.\n"
      ]
    },
    {
      "cell_type": "code",
      "source": [
        "total = 0\n",
        "cantidadPares = 0\n",
        "for i in range(0, 10):\n",
        "    numero = int(input())\n",
        "    total = total + numero\n",
        "    resto = numero % 2\n",
        "    if resto == 0:\n",
        "        cantidadPares = cantidadPares + 1\n",
        "\n",
        "print(f\"total ingresado: {total}\")\n",
        "print(f\"pares ingresados: {cantidadPares}\")"
      ],
      "metadata": {
        "id": "BaqOwda8FwyM"
      },
      "execution_count": null,
      "outputs": []
    },
    {
      "cell_type": "markdown",
      "metadata": {
        "id": "7YyBaMyyRh7I"
      },
      "source": [
        "**EJERCICIOS 4**\n",
        "\n",
        "Mostrar todos los números presentes en el rango [56,1230]\n",
        "Solicitar al usuario que ingrese el rango [a,b] y muestre todos los números pertenecientes a él."
      ]
    },
    {
      "cell_type": "code",
      "source": [
        "for i in range (56,1230):\n",
        "    print(i)\n",
        "\n",
        "a = int(input())\n",
        "b = int(input())\n",
        "for i in range(a,b):\n",
        "    print(i)"
      ],
      "metadata": {
        "id": "3GD5JmryI-n0"
      },
      "execution_count": null,
      "outputs": []
    },
    {
      "cell_type": "markdown",
      "metadata": {
        "id": "sCYdUm5DOpPk"
      },
      "source": [
        "**EJERCICIO 5 CICLO WHILE**\n",
        "\n",
        "Solicitar al usuario que ingrese un número, si es negativo o nulo , solicitar reiteradamente hasta que ingrese un numero positivo."
      ]
    },
    {
      "cell_type": "markdown",
      "metadata": {
        "id": "yxB31mqka2i3"
      },
      "source": [
        "chicos, si ingresan un dato nulo (vacio), debo usar un while para que vuelva a pedir lo mismo, pero si es un dato no nulo pasa y el valor lo transfomamos en entero,\n",
        "y comparamos si es positivo. Si no lo es hay que pedir otro dato, pero puede ser nulo, entonces habría que hacer todo de nuevo. Por eso llamo en el  **else** a la funcion  **positivo**, para que inicie todo de nuevo.\n",
        "recuerden que para ejecutar una funcion hay que llamarla con su nombre y parentesis. Ejemplo: positivo()"
      ]
    },
    {
      "cell_type": "code",
      "source": [
        "esPositivo = False\n",
        "\n",
        "while not(esPositivo):\n",
        "    valor = input()\n",
        "    if valor is None or len(valor) == 0:\n",
        "        print(\"valor nulo\")\n",
        "    else:\n",
        "        numero = int(valor)\n",
        "        if (numero > 0):\n",
        "            print(f\"Felicidades, saliendo del programa, {numero} es un numero positivo\")\n",
        "            esPositivo = True"
      ],
      "metadata": {
        "id": "Wy1J9BFuJw15"
      },
      "execution_count": null,
      "outputs": []
    },
    {
      "cell_type": "markdown",
      "metadata": {
        "id": "Snkm3EDCSb6n"
      },
      "source": [
        "**EJERCICIO 6**\n",
        "\n",
        "Solicitar al usuario que ingrese un número, si el número es positivo , solicitar reiteradamente hasta que ingrese un numero negativo. Luego mostrar dicho número si es par, en caso contrario mostrar un mensaje 'número ingresado impar'."
      ]
    },
    {
      "cell_type": "code",
      "source": [
        "esNegativo = False\n",
        "\n",
        "while not(esNegativo):\n",
        "    valor = input()\n",
        "    if valor is None or len(valor) == 0:\n",
        "        print(\"valor nulo\")\n",
        "    else:\n",
        "        numero = int(valor)\n",
        "        if (numero < 0):\n",
        "            print(f\"{numero} es un número negativo\")\n",
        "            esNegativo = true\n",
        "        else:\n",
        "            print(f\"{numero} es un número positivo\")"
      ],
      "metadata": {
        "id": "pv4FccGQLG90"
      },
      "execution_count": null,
      "outputs": []
    },
    {
      "cell_type": "markdown",
      "metadata": {
        "id": "sypNigFYS3iU"
      },
      "source": [
        "**EJERCICIO 7 VECTORES CON CICLO FOR**\n",
        "\n",
        "Solicitar al usuario que ingrese la cantidad de elementos del vector.\n",
        "Ingresar cada elemento del vector y calcular su promedio.AYUDA: EL PROMEDIO ES LA SUMA DE TODOS LOS NÚMEROS DIVIDO LA CANTIDAD TOTAL.\n",
        "Mostrar el vector."
      ]
    },
    {
      "cell_type": "code",
      "source": [
        "size = int(input())\n",
        "vector = []\n",
        "for i in range(0, size):\n",
        "    print(f\"valor de i: {i}\")\n",
        "    vector.append(int(input()))\n",
        "\n",
        "suma = 0\n",
        "for valor in vector:\n",
        "    suma = suma + valor\n",
        "\n",
        "print(f\"La suma es {suma}\")\n",
        "print(f\"El promedio es {suma/size}\")"
      ],
      "metadata": {
        "id": "SHtlIajNL6wJ"
      },
      "execution_count": null,
      "outputs": []
    },
    {
      "cell_type": "markdown",
      "metadata": {
        "id": "W15_ajQyULBo"
      },
      "source": [
        "**EJERCICIO 8 LISTA CON CICLO FOR**\n",
        "\n",
        "Solicitar a 10 usuario que ingresen los siguientes datos en el formato lista.\n",
        "\n",
        "['NOMBRE','APELLIDO', 'DNI','GASTOS MENSUALES DE HOGAR']\n",
        "\n",
        "Ingresar el final de la lista los siguientes usuarios:\n",
        "\n",
        "['ESTEBAN','LOPEZ', '45675400','190800.80']\n",
        "\n",
        "['NOELIA','ALEJA', '46906875','85900.50']\n",
        "\n",
        "Mostrar el vector.\n",
        "Eliminar el primer usuario de la lista."
      ]
    },
    {
      "cell_type": "code",
      "source": [
        "class persona:\n",
        "    def __init__(self, nombre, apellido, dni, gastos):\n",
        "        self.nombre =nombre\n",
        "        self.apellido = apellido\n",
        "        self.dni = dni\n",
        "        self.gastos = gastos\n",
        "\n",
        "lista = []\n",
        "\n",
        "for i in range(0,10):\n",
        "    print(\"Ingrese nombre:\")\n",
        "    nombre = input()\n",
        "    print(\"Ingrese apellido:\")\n",
        "    apellido = input()\n",
        "    print(\"Ingrese dni:\")\n",
        "    dni = input()\n",
        "    print(\"Ingrese gastos mensuales del hogar:\")\n",
        "    gastos = input()\n",
        "    lista.append(persona(nombre, apellido, dni, gastos))\n",
        "\n",
        "for i in range(0,10):\n",
        "    print(f\"NOMBRE: {lista[i].nombre}\")\n",
        "    print(f\"APELLIDO: {lista[i].apellido}\")\n",
        "    print(f\"DNI: {lista[i].dni}\")\n",
        "    print(f\"GASTOS SEMANALES: {lista[i].gastos}\")\n",
        "    print(\"---------------\")\n",
        "\n",
        "lista.pop()"
      ],
      "metadata": {
        "id": "aY6SB-X0pVjZ"
      },
      "execution_count": null,
      "outputs": []
    },
    {
      "cell_type": "markdown",
      "metadata": {
        "id": "vHZ23eGsrJe-"
      },
      "source": [
        "para probar como funciona cambien en el for el 10 por 2 y ejecuten ingrese los datos que le pidan y al terminar todo vuelvan a poner 10 en el for"
      ]
    },
    {
      "cell_type": "markdown",
      "metadata": {
        "id": "5x1DqNkpTWzi"
      },
      "source": [
        "**EJERCICIO 9 LISTA CON CICLO FOR**\n",
        "\n",
        "Buscar en la web los datos pablacionales de todas las provicias de Argentina , generando una lista con los siguiente información.\n",
        "\n",
        "['PROVINCIA','CANTIDAD DE HABITANTES', 'CONSUMO ELECTRICO PER CAPITA','SUPERFICIE EN M^2']\n",
        "\n",
        "\n",
        "\n",
        "Mostrar TODOS LOS DATOS DEL LISTADO.\n",
        "\n"
      ]
    },
    {
      "cell_type": "code",
      "source": [
        "class Provincia:\n",
        "    def __init__(self, provincia, habitantes, consumo, superficie):\n",
        "        self.provincia = provincia\n",
        "        self.habitantes = habitantes\n",
        "        self.consumo = consumo\n",
        "        self.superficie = superficie\n",
        "\n",
        "lista = []\n",
        "\n",
        "for i in range(0,23):\n",
        "    print(\"Ingrese nombre Provincia:\")\n",
        "    provincia = input()\n",
        "    print(\"Ingrese cantidad habitantes:\")\n",
        "    habitantes = input()\n",
        "    print(\"Ingrese consumo eléctrico:\")\n",
        "    consumo = input()\n",
        "    print(\"Ingrese superficie en metros cuadrados:\")\n",
        "    superficie = input()\n",
        "    lista.append(provincia(provincia, habitantes, consumo, superficie))\n",
        "\n",
        "for i in range(0,23):\n",
        "    print(f\"PROVINCIA: {lista[i].provincia}\")\n",
        "    print(f\"CANTIDAD DE HABITANTES: {lista[i].habitantes}\")\n",
        "    print(f\"CONSUMO ELÉCTRICO: {lista[i].consumo}\")\n",
        "    print(f\"SUPERFICIE M2: {lista[i].superficie}\")\n",
        "    print(\"---------------\")"
      ],
      "metadata": {
        "id": "iCW3EZdauLpO"
      },
      "execution_count": null,
      "outputs": []
    },
    {
      "cell_type": "markdown",
      "metadata": {
        "id": "i-vHT64rNKKA"
      },
      "source": [
        "\n",
        "\n",
        "\n"
      ]
    },
    {
      "cell_type": "markdown",
      "metadata": {
        "id": "SVaFh43fTwt3"
      },
      "source": [
        "**EJERCICIO 10 LISTAS**\n",
        "\n",
        "Crear una lista con información de estudianes de un colegio donde incluya los siguientes items:\n",
        "\n",
        "\n",
        "*   curso y división del aula del alumno\n",
        "*   nombre y apellidos\n",
        "*   DNI\n",
        "*   cantidad de notas en el primer trimestre\n",
        "*   INGRESAR CADA UNA DE ESAS NOTAS, POR EL USUARIO\n",
        "*   promedio del trimestre\n",
        "\n",
        "Mostrar todos los nombres y apellidos de los  alumnos\n",
        "Mostrar los alumnos con promedio mayor o igual a 6\n",
        "\n",
        "\n"
      ]
    },
    {
      "cell_type": "code",
      "source": [
        "class Alumno:\n",
        "    def __init__(self, apellido, nombre, curso, division, cantidadNotas, notas, promedio):\n",
        "        self.apellido = apellido\n",
        "        self.nombre = nombre\n",
        "        self.curso = curso\n",
        "        self.division = division\n",
        "        self.cantidadNotas = cantidadNotas\n",
        "        self.notas = notas\n",
        "        self.promedio = promedio\n",
        "\n",
        "lista = []\n",
        "\n",
        "continuar = True\n",
        "\n",
        "while (continuar):\n",
        "\n",
        "    print(\"Ingrese apellido del alumno:\")\n",
        "    apellido = input()\n",
        "    print(\"Ingrese nombre del alumno:\")\n",
        "    nombre = input()\n",
        "    print(\"Ingrese curso del alumno:\")\n",
        "    curso = input()\n",
        "    print(\"Ingrese división del alumno:\")\n",
        "    division = input()\n",
        "    print(\"Ingrese cantidad de notas:\")\n",
        "    cantidad = int(input())\n",
        "    notas = []\n",
        "    total = 0\n",
        "    for i in range(0, cantidad):\n",
        "        print(\"Ingrese nota:\")\n",
        "        nota = int(input())\n",
        "        total = total + nota\n",
        "        notas.append(nota)\n",
        "\n",
        "    promedio = total / cantidad\n",
        "\n",
        "    lista.append(Alumno(apellido, nombre, curso, division, cantidad, notas, promedio))\n",
        "    print(\"Desea seguir cargando alumnos?\")\n",
        "    respuesta = input()\n",
        "    if (respuesta == \"n\" or respuesta == \"N\" or respuesta == \"NO\" or respuesta == \"no\"):\n",
        "        continuar = False\n",
        "\n",
        "mejoresPromedios = []\n",
        "tamanio = len(lista)\n",
        "for i in lista:\n",
        "    if i.promedio >= 6:\n",
        "        mejoresPromedios.append(i)\n",
        "\n",
        "print(\"Listado de todos los alumnos\")\n",
        "for i in lista:\n",
        "    print(f\"Apellido: {i.apellido}\")\n",
        "    print(f\"Nombre: {i.nombre}\")\n",
        "    print(f\"Curso: {i.curso}\")\n",
        "    print(f\"Division: {i.division}\")\n",
        "    print(f\"Promedio: {i.promedio}\")\n",
        "\n",
        "print(\"Listado de mejores alumnos aprobados\")\n",
        "for i in mejoresPromedios:\n",
        "    print(f\"Apellido: {i.apellido}\")\n",
        "    print(f\"Nombre: {i.nombre}\")\n",
        "    print(f\"Curso: {i.curso}\")\n",
        "    print(f\"Division: {i.division}\")\n",
        "    print(f\"Promedio: {i.promedio}\")\n"
      ],
      "metadata": {
        "colab": {
          "base_uri": "https://localhost:8080/",
          "height": 408
        },
        "id": "7pMHmwhRuh-4",
        "outputId": "05784aaa-0b14-4036-914c-de8bacc365fb"
      },
      "execution_count": 7,
      "outputs": [
        {
          "name": "stdout",
          "output_type": "stream",
          "text": [
            "Ingrese apellido del alumno:\n",
            "Ortega\n",
            "Ingrese nombre del alumno:\n",
            "Diego\n",
            "Ingrese curso del alumno:\n",
            "4\n",
            "Ingrese división del alumno:\n",
            "5\n",
            "Ingrese cantidad de notas:\n",
            "2\n"
          ]
        },
        {
          "output_type": "error",
          "ename": "TypeError",
          "evalue": "ignored",
          "traceback": [
            "\u001b[0;31m---------------------------------------------------------------------------\u001b[0m",
            "\u001b[0;31mTypeError\u001b[0m                                 Traceback (most recent call last)",
            "\u001b[0;32m<ipython-input-7-005a56bd01d0>\u001b[0m in \u001b[0;36m<cell line: 15>\u001b[0;34m()\u001b[0m\n\u001b[1;32m     27\u001b[0m     \u001b[0mnotas\u001b[0m \u001b[0;34m=\u001b[0m \u001b[0;34m[\u001b[0m\u001b[0;34m]\u001b[0m\u001b[0;34m\u001b[0m\u001b[0;34m\u001b[0m\u001b[0m\n\u001b[1;32m     28\u001b[0m     \u001b[0mtotal\u001b[0m \u001b[0;34m=\u001b[0m \u001b[0;36m0\u001b[0m\u001b[0;34m\u001b[0m\u001b[0;34m\u001b[0m\u001b[0m\n\u001b[0;32m---> 29\u001b[0;31m     \u001b[0;32mfor\u001b[0m \u001b[0mi\u001b[0m \u001b[0;32min\u001b[0m \u001b[0mrange\u001b[0m\u001b[0;34m(\u001b[0m\u001b[0;36m0\u001b[0m\u001b[0;34m,\u001b[0m \u001b[0mcantidad\u001b[0m\u001b[0;34m)\u001b[0m\u001b[0;34m:\u001b[0m\u001b[0;34m\u001b[0m\u001b[0;34m\u001b[0m\u001b[0m\n\u001b[0m\u001b[1;32m     30\u001b[0m         \u001b[0mprint\u001b[0m\u001b[0;34m(\u001b[0m\u001b[0;34m\"Ingrese nota:\"\u001b[0m\u001b[0;34m)\u001b[0m\u001b[0;34m\u001b[0m\u001b[0;34m\u001b[0m\u001b[0m\n\u001b[1;32m     31\u001b[0m         \u001b[0mnota\u001b[0m \u001b[0;34m=\u001b[0m \u001b[0mint\u001b[0m\u001b[0;34m(\u001b[0m\u001b[0minput\u001b[0m\u001b[0;34m(\u001b[0m\u001b[0;34m)\u001b[0m\u001b[0;34m)\u001b[0m\u001b[0;34m\u001b[0m\u001b[0;34m\u001b[0m\u001b[0m\n",
            "\u001b[0;31mTypeError\u001b[0m: 'str' object cannot be interpreted as an integer"
          ]
        }
      ]
    }
  ],
  "metadata": {
    "colab": {
      "provenance": [],
      "include_colab_link": true
    },
    "kernelspec": {
      "display_name": "Python 3",
      "name": "python3"
    },
    "language_info": {
      "name": "python"
    }
  },
  "nbformat": 4,
  "nbformat_minor": 0
}